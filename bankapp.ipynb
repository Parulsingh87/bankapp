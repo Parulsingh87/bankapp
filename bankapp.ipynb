{
 "cells": [
  {
   "cell_type": "code",
   "execution_count": 94,
   "id": "f353bc0b",
   "metadata": {},
   "outputs": [],
   "source": [
    "class User():\n",
    "    def __init__(self,name,age,gender):                            #create account\n",
    "        self.name = name\n",
    "        self.age = age\n",
    "        self.gender = gender\n",
    "        \n",
    "    def show_user_details(self):\n",
    "        print(\"User details\")\n",
    "        print(\"\")\n",
    "        print(f\"Name: {self.name}\")\n",
    "        print(f\"age: {self.age}\")\n",
    "        print(f\"gender: {self.gender}\")"
   ]
  },
  {
   "cell_type": "code",
   "execution_count": 95,
   "id": "540160df",
   "metadata": {},
   "outputs": [],
   "source": [
    "class Bank(User):\n",
    "    def __init__(self,name,age,gender):\n",
    "        super().__init__(name,age,gender)\n",
    "        self.balance = 0\n",
    "        \n",
    "    def deposit(self,amount):                                                    #deposit amount\n",
    "        self.amount = amount\n",
    "        self.balance = self.balance + self.amount\n",
    "        print(f\"Updated balance = {self.balance}\")\n",
    "    \n",
    "    def withdraw(self,amount):                                                   #withdraw amount\n",
    "        self.amount = amount \n",
    "        if self.amount > self.balance:\n",
    "            print(\"Insufficient balance\")\n",
    "            print(f\"Your balance is : {self.balance}\")\n",
    "        else:\n",
    "            self.balance = self.balance - self.amount\n",
    "            print(f\"Updated balance : {self.balance}\")\n",
    "            \n",
    "    \n",
    "    def view_balance(self):                                                       #view balance\n",
    "        self.show_user_details()\n",
    "        print(f\"Your account balance is : {self.balance}\")"
   ]
  },
  {
   "cell_type": "code",
   "execution_count": 96,
   "id": "100d7b8e",
   "metadata": {},
   "outputs": [],
   "source": [
    "parul = Bank(\"Parul\", 21, \"Female\")"
   ]
  },
  {
   "cell_type": "code",
   "execution_count": 97,
   "id": "2a39bbe1",
   "metadata": {},
   "outputs": [
    {
     "name": "stdout",
     "output_type": "stream",
     "text": [
      "User details\n",
      "\n",
      "Name: Parul\n",
      "age: 21\n",
      "gender: Female\n"
     ]
    }
   ],
   "source": [
    "parul.show_user_details()"
   ]
  },
  {
   "cell_type": "code",
   "execution_count": 98,
   "id": "901f8305",
   "metadata": {},
   "outputs": [
    {
     "data": {
      "text/plain": [
       "0"
      ]
     },
     "execution_count": 98,
     "metadata": {},
     "output_type": "execute_result"
    }
   ],
   "source": [
    "parul.balance"
   ]
  },
  {
   "cell_type": "code",
   "execution_count": 99,
   "id": "7a4848c2",
   "metadata": {},
   "outputs": [
    {
     "name": "stdout",
     "output_type": "stream",
     "text": [
      "Updated balance = 2000\n"
     ]
    }
   ],
   "source": [
    "parul.deposit(2000)"
   ]
  },
  {
   "cell_type": "code",
   "execution_count": 100,
   "id": "eed582d6",
   "metadata": {},
   "outputs": [
    {
     "name": "stdout",
     "output_type": "stream",
     "text": [
      "Updated balance = 5000\n"
     ]
    }
   ],
   "source": [
    "parul.deposit(3000)"
   ]
  },
  {
   "cell_type": "code",
   "execution_count": 101,
   "id": "b3cdb495",
   "metadata": {},
   "outputs": [
    {
     "name": "stdout",
     "output_type": "stream",
     "text": [
      "User details\n",
      "\n",
      "Name: Parul\n",
      "age: 21\n",
      "gender: Female\n",
      "Your account balance is : 5000\n"
     ]
    }
   ],
   "source": [
    "parul.view_balance()"
   ]
  },
  {
   "cell_type": "code",
   "execution_count": 102,
   "id": "e5186c9f",
   "metadata": {},
   "outputs": [
    {
     "name": "stdout",
     "output_type": "stream",
     "text": [
      "Updated balance : 2500\n"
     ]
    }
   ],
   "source": [
    "parul.withdraw(2500)"
   ]
  },
  {
   "cell_type": "code",
   "execution_count": 103,
   "id": "27dfe468",
   "metadata": {},
   "outputs": [
    {
     "name": "stdout",
     "output_type": "stream",
     "text": [
      "User details\n",
      "\n",
      "Name: Parul\n",
      "age: 21\n",
      "gender: Female\n",
      "Your account balance is : 2500\n"
     ]
    }
   ],
   "source": [
    "parul.view_balance()"
   ]
  },
  {
   "cell_type": "code",
   "execution_count": null,
   "id": "3f7872cf",
   "metadata": {},
   "outputs": [],
   "source": []
  }
 ],
 "metadata": {
  "kernelspec": {
   "display_name": "Python 3",
   "language": "python",
   "name": "python3"
  },
  "language_info": {
   "codemirror_mode": {
    "name": "ipython",
    "version": 3
   },
   "file_extension": ".py",
   "mimetype": "text/x-python",
   "name": "python",
   "nbconvert_exporter": "python",
   "pygments_lexer": "ipython3",
   "version": "3.8.8"
  }
 },
 "nbformat": 4,
 "nbformat_minor": 5
}
